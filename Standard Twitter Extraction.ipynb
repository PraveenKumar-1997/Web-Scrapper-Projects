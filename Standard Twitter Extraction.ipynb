{
 "cells": [
  {
   "cell_type": "code",
   "execution_count": 6,
   "metadata": {},
   "outputs": [
    {
     "name": "stdout",
     "output_type": "stream",
     "text": [
      "2020-12-15 10:35:35 RT @rajfortyseven: #China grabs more land of #Bhutan.\n",
      "Effectively crosses #India's red lines.\n",
      "Building bridge across #AmoChu river.\n",
      "Clears…\n",
      "2020-12-14 00:46:35 RT @davidrieff: READ: Over 50% vehicles on road uninsured: report\n",
      "\n",
      "https://t.co/ycSZo6xGjt\n",
      "\n",
      "Shared by The IndianExpress iOS App. Click here…\n",
      "2020-12-14 00:05:35 READ: Over 50% vehicles on road uninsured: report\n",
      "\n",
      "https://t.co/ycSZo6xGjt\n",
      "\n",
      "Shared by The IndianExpress iOS App. Click here to download\n",
      "\n",
      "https://t.co/y87snYbiHa\n",
      "Scraping finished and saved to road india.csv\n",
      "2020-12-20 10:16:42 RT @IndianEmbTokyo: Congratulations @ISRO🇮🇳!!\n",
      "\n",
      "For successful release of 42nd communication #satellite of India🇮🇳 \"#CMS01\" by #PSLVC50 (Pol…\n",
      "2020-12-19 09:06:46 RT @IndianEmbTokyo: Congratulations @ISRO🇮🇳!!\n",
      "\n",
      "For successful release of 42nd communication #satellite of India🇮🇳 \"#CMS01\" by #PSLVC50 (Pol…\n",
      "2020-12-19 08:58:11 RT @IndianEmbTokyo: Congratulations @ISRO🇮🇳!!\n",
      "\n",
      "For successful release of 42nd communication #satellite of India🇮🇳 \"#CMS01\" by #PSLVC50 (Pol…\n",
      "2020-12-19 08:56:00 RT @IndianEmbTokyo: Congratulations @ISRO🇮🇳!!\n",
      "\n",
      "For successful release of 42nd communication #satellite of India🇮🇳 \"#CMS01\" by #PSLVC50 (Pol…\n",
      "2020-12-19 08:49:28 RT @IndianEmbTokyo: Congratulations @ISRO🇮🇳!!\n",
      "\n",
      "For successful release of 42nd communication #satellite of India🇮🇳 \"#CMS01\" by #PSLVC50 (Pol…\n",
      "2020-12-19 08:35:55 RT @IndianEmbTokyo: Congratulations @ISRO🇮🇳!!\n",
      "\n",
      "For successful release of 42nd communication #satellite of India🇮🇳 \"#CMS01\" by #PSLVC50 (Pol…\n",
      "2020-12-19 08:33:50 Congratulations @ISRO🇮🇳!!\n",
      "\n",
      "For successful release of 42nd communication #satellite of India🇮🇳 \"#CMS01\" by #PSLVC50 (Polar Satellite Launch Vehicle 50th successful flight).\n",
      "\n",
      "https://t.co/e4K7RRdp5Y \n",
      "#India #ISRO #PSLV \n",
      "@MEAIndia @VigyanPrasar @MEAIndbiz @IndianConsOsaka https://t.co/hpPItsTary https://t.co/w7q8rab4pw\n",
      "2020-12-17 17:09:01 .\n",
      "PSLV 🚀 - C50 / CMS - 01 (GSAT - 12R) Mission\n",
      ".\n",
      "ISRO has successfully launched PSLV - C50 Vehicle &amp; Satellite 🛰️ today (17th Dec, 2020) at 3.41 PM &amp; Satellite 🛰️ Successfully moving in to Earth 🌏 Orbit...\n",
      ".\n",
      "CMS - 01 🚀 is the 42nd Communication Satellite 🛰️ of India 🇮🇳, https://t.co/CvIO3RQDvh\n",
      "2020-12-17 14:50:15 India’s communication satellite CMS-01 was successfully launched by PSLV-C50 lifted off from Second Launch Pad of SDSC SHAR at 15:41 hours (IST) on Wednesday December 17, 2020 Sriharikota. After a flight of 20 minutes 12 seconds, vehicle injected satellite into its intended orbit https://t.co/6J3Ifrf0Tt\n",
      "2020-12-16 07:48:06 India’s Polar Satellite Launch Vehicle (#PSLV), in its 52nd Mission will launch its 42nd Communication #Satellite CMS-01 from the 2nd Launch Pad of Satish Dhawan Space Centre, SHAR, Sriharikota, Andhra Pradesh at 15:41 hrs IST tentatively on Dec 17, 2020. Image Credit:@isro https://t.co/5FRy7u3gTp\n",
      "Scraping finished and saved to vehicle india.csv\n",
      "Scraping finished and saved to pedastrian india.csv\n",
      "2020-12-14 00:46:35 RT @davidrieff: READ: Over 50% vehicles on road uninsured: report\n",
      "\n",
      "https://t.co/ycSZo6xGjt\n",
      "\n",
      "Shared by The IndianExpress iOS App. Click here…\n",
      "2020-12-14 00:05:35 READ: Over 50% vehicles on road uninsured: report\n",
      "\n",
      "https://t.co/ycSZo6xGjt\n",
      "\n",
      "Shared by The IndianExpress iOS App. Click here to download\n",
      "\n",
      "https://t.co/y87snYbiHa\n",
      "Scraping finished and saved to traffic india.csv\n"
     ]
    }
   ],
   "source": [
    "import tweepy\n",
    "import csv\n",
    "import pandas as pd\n",
    "import sys\n",
    "import os\n",
    "os.chdir('C:\\\\Users\\\\RBG305\\\\Downloads\\\\Twitter')\n",
    "\n",
    "# API credentials here\n",
    "consumer_key = ''\n", 
    "consumer_secret = ''\n",
    "access_token = ''\n",
    "access_token_secret = ''\n",
    "\n",
    "auth = tweepy.OAuthHandler(consumer_key, consumer_secret)\n",
    "auth.set_access_token(access_token, access_token_secret)\n",
    "api = tweepy.API(auth,wait_on_rate_limit=True,wait_on_rate_limit_notify=True)\n",
    "\n",
    "# Search word/hashtag value \n",
    "#HashValues= ['covid', 'injury', 'mental stress', 'rehabiliation', 'road accident', 'road injury', \\\n",
    "              # 'road problem', 'vehicle accident', 'road safety', 'pedastrian safety', 'traffic jam']\n",
    "HashValues= [\n",
    "              'road india', 'vehicle india', 'pedastrian india', 'traffic india']\n",
    "# search start date value. the search will start from this date to the current date.\n",
    "StartDate = \"01/01/2020\"\n",
    "\n",
    "# getting the search word/hashtag and date range from user\n",
    "#HashValue = input(\"Enter the hashtag you want the tweets to be downloaded for: \")\n",
    "#StartDate = input(\"Enter the start date in this format yyyy-mm-dd: \")\n",
    "\n",
    "for HashValue in HashValues:\n",
    "    # Open/Create a file to append data\n",
    "    csvFile = open(HashValue+'.csv', 'a')\n",
    "\n",
    "    #Use csv Writer\n",
    "    csvWriter = csv.writer(csvFile)\n",
    "    tweets = []\n",
    "    for tweet in tweepy.Cursor(api.search,q=HashValue,count=200000,lang=\"en\",since=StartDate, tweet_mode='extended').items():\n",
    "        if tweet.full_text not in tweets:\n",
    "            print (tweet.created_at, tweet.full_text)\n",
    "            csvWriter.writerow([tweet.created_at, tweet.full_text.encode('utf-8')])\n",
    "\n",
    "    print (\"Scraping finished and saved to \"+HashValue+\".csv\")\n",
    "    #sys.exit()"
   ]
  },
  {
   "cell_type": "code",
   "execution_count": 10,
   "metadata": {
    "scrolled": true
   },
   "outputs": [
    {
     "name": "stdout",
     "output_type": "stream",
     "text": [
      "None\n"
     ]
    }
   ],
   "source": [
   ]
  },
  {
   "cell_type": "code",
   "execution_count": null,
   "metadata": {},
   "outputs": [],
   "source": []
  }
 ],
 "metadata": {
  "kernelspec": {
   "display_name": "Python 3",
   "language": "python",
   "name": "python3"
  },
  "language_info": {
   "codemirror_mode": {
    "name": "ipython",
    "version": 3
   },
   "file_extension": ".py",
   "mimetype": "text/x-python",
   "name": "python",
   "nbconvert_exporter": "python",
   "pygments_lexer": "ipython3",
   "version": "3.8.5"
  }
 },
 "nbformat": 4,
 "nbformat_minor": 2
}
